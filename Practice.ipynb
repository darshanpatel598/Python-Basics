{
  "nbformat": 4,
  "nbformat_minor": 0,
  "metadata": {
    "colab": {
      "provenance": [],
      "authorship_tag": "ABX9TyPnaZdCEAdrRvpnwoDDtyl5",
      "include_colab_link": true
    },
    "kernelspec": {
      "name": "python3",
      "display_name": "Python 3"
    },
    "language_info": {
      "name": "python"
    }
  },
  "cells": [
    {
      "cell_type": "markdown",
      "metadata": {
        "id": "view-in-github",
        "colab_type": "text"
      },
      "source": [
        "<a href=\"https://colab.research.google.com/github/darshanpatel598/Python-Basics/blob/main/Practice.ipynb\" target=\"_parent\"><img src=\"https://colab.research.google.com/assets/colab-badge.svg\" alt=\"Open In Colab\"/></a>"
      ]
    },
    {
      "cell_type": "code",
      "execution_count": null,
      "metadata": {
        "colab": {
          "base_uri": "https://localhost:8080/"
        },
        "id": "gixGn8TqobfU",
        "outputId": "b011484d-4417-4cf4-9517-769491bcc30a"
      },
      "outputs": [
        {
          "output_type": "stream",
          "name": "stdout",
          "text": [
            "2024\n",
            "7\n",
            "12\n",
            "The next date is [yyyy-mm-dd] 2024-7-13.\n"
          ]
        }
      ],
      "source": [
        "#Write a Python Program for Mr. Harry to automatically reschedule a meeting to the next date whenever it is not held on the current date.\n",
        "\n",
        "#Sample\n",
        "\n",
        "#Input a year: 1974\n",
        "#Input a month [1-12]: 2\n",
        "#Input a day [1-31]: 15\n",
        "#The next date is [yyyy-mm-dd] 1974-2-16.\n",
        "\n",
        "year = int(input())\n",
        "month = int(input())\n",
        "day = int(input())\n",
        "\n",
        "if (year % 400 == 0):\n",
        "  leap_year = True\n",
        "elif (year % 100 == 0):\n",
        "  leap_year = False\n",
        "elif (year % 4 == 0):\n",
        "  leap_year = True\n",
        "else:\n",
        "  leap_year = False\n",
        "\n",
        "\n",
        "if month in (1, 3, 5, 7, 8, 10, 12):\n",
        "  month_length = 31\n",
        "elif month == 2:\n",
        "  if leap_year:\n",
        "    month_length = 29\n",
        "  else:\n",
        "    month_length = 28\n",
        "else:\n",
        "  month_length = 30\n",
        "\n",
        "if day < month_length:\n",
        "  day += 1\n",
        "else:\n",
        "  day = 1\n",
        "  if month == 12:\n",
        "    month = 1\n",
        "    year += 1\n",
        "  else:\n",
        "    month += 1\n",
        "print (\"The next date is [yyyy-mm-dd] %d-%d-%d.\" % (year, month, day))"
      ]
    },
    {
      "cell_type": "code",
      "source": [
        "#Write a Python program to print the following pattern of numbers in n rows to display on art board in maths exhibition.\n",
        "\n",
        "#Example 1:\n",
        "#Input:\n",
        "#4\n",
        "\n",
        "#Output:\n",
        "#1\n",
        "\n",
        "#22\n",
        "\n",
        "#333\n",
        "\n",
        "#4444\n",
        "\n",
        "a=int(input())\n",
        "for i in range(1,a+1):\n",
        "    print(i*str(i))"
      ],
      "metadata": {
        "colab": {
          "base_uri": "https://localhost:8080/"
        },
        "id": "Sv5i5u3Krw7E",
        "outputId": "32603164-67ae-4bca-a5d3-884385953631"
      },
      "execution_count": null,
      "outputs": [
        {
          "output_type": "stream",
          "name": "stdout",
          "text": [
            "5\n",
            "1\n",
            "22\n",
            "333\n",
            "4444\n",
            "55555\n"
          ]
        }
      ]
    },
    {
      "cell_type": "code",
      "source": [
        "# Write your code here\n",
        "\n",
        "year = int(input())\n",
        "month = int(input())\n",
        "day = int(input())\n",
        "\n",
        "if year % 400 == 0:\n",
        "  leap_year=True\n",
        "elif year%100 == 0:\n",
        "    leap_year=False\n",
        "elif year%4 == 0:\n",
        "  leap_year=True\n",
        "else:\n",
        "  leap_year=False\n",
        "\n",
        "if month == (1,3,5,7,8,10,12):\n",
        "  month_length=31\n",
        "elif month == 2:\n",
        "     if leap_year:\n",
        "       month_length=29\n",
        "     else:\n",
        "       month_length=28\n",
        "else:\n",
        "       month_length=30\n",
        "\n",
        "if day<month_length:\n",
        "  day+=1\n",
        "else:\n",
        "  day=1\n",
        "  if month == 12:\n",
        "     month=1\n",
        "     year+=1\n",
        "  else:\n",
        "      month+=1\n",
        "\n",
        "print(\"The next date is [yyyy-mm-dd]\", year,month,day,\".\")\n",
        "\n",
        "\n",
        "\n",
        "\n",
        "\n",
        "\n",
        "\n",
        "\n",
        "\n",
        "\n",
        "\n",
        "\n"
      ],
      "metadata": {
        "colab": {
          "base_uri": "https://localhost:8080/"
        },
        "id": "ibaYKkYS4i1d",
        "outputId": "b6e501da-4dba-4216-a9e4-2c0ba06446cd"
      },
      "execution_count": null,
      "outputs": [
        {
          "output_type": "stream",
          "name": "stdout",
          "text": [
            "2018\n",
            "7\n",
            "14\n",
            "The next date is [yyyy-mm-dd] 2018 7 15 .\n"
          ]
        }
      ]
    },
    {
      "cell_type": "code",
      "source": [
        "char = input()\n",
        "\n",
        "if char in \"aeiouAEIOU\":\n",
        "  print(\"Vowel\")\n",
        "else:\n",
        "  print(\"Consonant\")"
      ],
      "metadata": {
        "id": "rG8hcQyV6wtk",
        "outputId": "c209bfc6-f5f6-445e-9737-67f1e31af3cc",
        "colab": {
          "base_uri": "https://localhost:8080/"
        }
      },
      "execution_count": null,
      "outputs": [
        {
          "output_type": "stream",
          "name": "stdout",
          "text": [
            "w\n",
            "Consonant\n"
          ]
        }
      ]
    },
    {
      "cell_type": "code",
      "source": [
        "#In a competition, participants were given a number to sum its digits until it was a single-digit number. So, write a Python program to add the digits of a positive integer repeatedly until the result has a single digit.\n",
        "#Example 1:\n",
        "#Input:\n",
        "#7548\n",
        "#Output:\n",
        "#Step-1 Sum: 24\n",
        "#Step-2 Sum: 6\n",
        "\n",
        "\n",
        "number = int(input())\n",
        "# Finding sum\n",
        "total_sum = 0\n",
        "step = 1\n",
        "\n",
        "condition = True\n",
        "\n",
        "while condition:\n",
        "\n",
        "    while number:\n",
        "        total_sum += number%10\n",
        "        number //= 10\n",
        "\n",
        "    print(\"Step-%d Sum: %d\" %(step, total_sum))\n",
        "    number = total_sum\n",
        "    total_sum = 0\n",
        "    step += 1\n",
        "    condition = number > 9\n",
        "\n"
      ],
      "metadata": {
        "id": "x9qtAl9ZSv3S",
        "colab": {
          "base_uri": "https://localhost:8080/"
        },
        "outputId": "abfcc3f4-070b-4a87-adc8-1bf2d56e2f52"
      },
      "execution_count": 1,
      "outputs": [
        {
          "output_type": "stream",
          "name": "stdout",
          "text": [
            "7456\n",
            "Step-1 Sum: 22\n",
            "Step-2 Sum: 4\n"
          ]
        }
      ]
    },
    {
      "cell_type": "code",
      "source": [
        "# Write a Python program to find the closest palindrome from a given string. for closest palindrome\n",
        "#Input:\n",
        "#cat\n",
        "#Output:\n",
        "#cac\n",
        "\n",
        "st = input()\n",
        "\n",
        "new_str = ''\n",
        "\n",
        "for i in range(0,len(st)):\n",
        "  if st[i]==st[len(st)-i-1]:\n",
        "     print(\"Given word is Palindrom\")\n",
        "     break\n",
        "  elif i <len(st)/2:\n",
        "     new_str = st[:len(st)//2] + st[len(st)//2::-1]\n",
        "     print(\"closest palindrome is\", new_str)\n",
        "     break"
      ],
      "metadata": {
        "colab": {
          "base_uri": "https://localhost:8080/"
        },
        "id": "PB_Xsc3w4Pj1",
        "outputId": "4ca421d9-802c-494f-c7d5-e7d7abbc6824"
      },
      "execution_count": 14,
      "outputs": [
        {
          "output_type": "stream",
          "name": "stdout",
          "text": [
            "cat\n",
            "closest palindrome is cac\n"
          ]
        }
      ]
    }
  ]
}