{
  "nbformat": 4,
  "nbformat_minor": 0,
  "metadata": {
    "colab": {
      "provenance": [],
      "authorship_tag": "ABX9TyOuKjxWHMcHl8nNXuRjpFNc",
      "include_colab_link": true
    },
    "kernelspec": {
      "name": "python3",
      "display_name": "Python 3"
    },
    "language_info": {
      "name": "python"
    }
  },
  "cells": [
    {
      "cell_type": "markdown",
      "metadata": {
        "id": "view-in-github",
        "colab_type": "text"
      },
      "source": [
        "<a href=\"https://colab.research.google.com/github/darshanpatel598/Python-Basics/blob/main/Practice.ipynb\" target=\"_parent\"><img src=\"https://colab.research.google.com/assets/colab-badge.svg\" alt=\"Open In Colab\"/></a>"
      ]
    },
    {
      "cell_type": "code",
      "execution_count": null,
      "metadata": {
        "colab": {
          "base_uri": "https://localhost:8080/"
        },
        "id": "gixGn8TqobfU",
        "outputId": "7941a113-36ca-410b-a432-b5e79d9980d6"
      },
      "outputs": [
        {
          "output_type": "stream",
          "name": "stdout",
          "text": [
            "2024\n",
            "12\n",
            "1\n",
            "The next date is [yyyy-mm-dd] 2024-12-2.\n"
          ]
        }
      ],
      "source": [
        "#Write a Python Program for Mr. Harry to automatically reschedule a meeting to the next date whenever it is not held on the current date.\n",
        "\n",
        "#Sample\n",
        "\n",
        "#Input a year: 1974\n",
        "#Input a month [1-12]: 2\n",
        "#Input a day [1-31]: 15\n",
        "#The next date is [yyyy-mm-dd] 1974-2-16.\n",
        "\n",
        "year = int(input())\n",
        "month = int(input())\n",
        "day = int(input())\n",
        "\n",
        "if (year % 400 == 0):\n",
        "  leap_year = True\n",
        "elif (year % 100 == 0):\n",
        "  leap_year = False\n",
        "elif (year % 4 == 0):\n",
        "  leap_year = True\n",
        "else:\n",
        "  leap_year = False\n",
        "\n",
        "\n",
        "if month in (1, 3, 5, 7, 8, 10, 12):\n",
        "  month_length = 31\n",
        "elif month == 2:\n",
        "  if leap_year:\n",
        "    month_length = 29\n",
        "  else:\n",
        "    month_length = 28\n",
        "else:\n",
        "  month_length = 30\n",
        "\n",
        "if day < month_length:\n",
        "  day += 1\n",
        "else:\n",
        "  day = 1\n",
        "  if month == 12:\n",
        "    month = 1\n",
        "    year += 1\n",
        "  else:\n",
        "    month += 1\n",
        "print (\"The next date is [yyyy-mm-dd] %d-%d-%d.\" % (year, month, day))"
      ]
    },
    {
      "cell_type": "code",
      "source": [
        "#Write a Python program to print the following pattern of numbers in n rows to display on art board in maths exhibition.\n",
        "\n",
        "#Example 1:\n",
        "#Input:\n",
        "#4\n",
        "\n",
        "#Output:\n",
        "#1\n",
        "\n",
        "#22\n",
        "\n",
        "#333\n",
        "\n",
        "#4444\n",
        "\n",
        "a=int(input())\n",
        "for i in range(1,a+1):\n",
        "    print(i*str(i))"
      ],
      "metadata": {
        "colab": {
          "base_uri": "https://localhost:8080/"
        },
        "id": "Sv5i5u3Krw7E",
        "outputId": "63c4af75-addb-42bd-94ca-654724b2723f"
      },
      "execution_count": null,
      "outputs": [
        {
          "output_type": "stream",
          "name": "stdout",
          "text": [
            "5\n",
            "1\n",
            "22\n",
            "333\n",
            "4444\n",
            "55555\n"
          ]
        }
      ]
    },
    {
      "cell_type": "code",
      "source": [
        "char = input()\n",
        "\n",
        "if char in \"aeiouAEIOU\":\n",
        "  print(\"Vowel\")\n",
        "else:\n",
        "  print(\"Consonant\")"
      ],
      "metadata": {
        "id": "rG8hcQyV6wtk",
        "outputId": "dfada89e-5105-4dfa-8336-1ef2857e7741",
        "colab": {
          "base_uri": "https://localhost:8080/"
        }
      },
      "execution_count": null,
      "outputs": [
        {
          "output_type": "stream",
          "name": "stdout",
          "text": [
            "e\n",
            "Vowel\n"
          ]
        }
      ]
    },
    {
      "cell_type": "code",
      "source": [
        "#In a competition, participants were given a number to sum its digits until it was a single-digit number. So, write a Python program to add the digits of a positive integer repeatedly until the result has a single digit.\n",
        "#Example 1:\n",
        "#Input:\n",
        "#7548\n",
        "#Output:\n",
        "#Step-1 Sum: 24\n",
        "#Step-2 Sum: 6\n",
        "\n",
        "\n",
        "number = int(input())\n",
        "# Finding sum\n",
        "total_sum = 0\n",
        "step = 1\n",
        "\n",
        "condition = True\n",
        "\n",
        "while condition:\n",
        "\n",
        "    while number:\n",
        "        total_sum += number%10\n",
        "        number //= 10\n",
        "\n",
        "    print(\"Step-%d Sum: %d\" %(step, total_sum))\n",
        "    number = total_sum\n",
        "    total_sum = 0\n",
        "    step += 1\n",
        "    condition = number > 9\n",
        "\n"
      ],
      "metadata": {
        "id": "x9qtAl9ZSv3S",
        "colab": {
          "base_uri": "https://localhost:8080/"
        },
        "outputId": "3c198037-cc39-41ef-a9d0-79884e4629cc"
      },
      "execution_count": null,
      "outputs": [
        {
          "output_type": "stream",
          "name": "stdout",
          "text": [
            "1783\n",
            "Step-1 Sum: 19\n",
            "Step-2 Sum: 10\n",
            "Step-3 Sum: 1\n"
          ]
        }
      ]
    },
    {
      "cell_type": "code",
      "source": [
        "# Write a Python program to find the closest palindrome from a given string. for closest palindrome\n",
        "#Input:\n",
        "#cat\n",
        "#Output:\n",
        "#cac\n",
        "\n",
        "st = input()\n",
        "\n",
        "new_str = ''\n",
        "\n",
        "for i in range(0,len(st)):\n",
        "  if st[i]==st[len(st)-i-1]:\n",
        "     print(\"Given word is Palindrom\")\n",
        "     break\n",
        "  elif i <len(st)/2:\n",
        "     new_str = st[:len(st)//2] + st[len(st)//2::-1]\n",
        "     print(\"closest palindrome is\", new_str)\n",
        "     break"
      ],
      "metadata": {
        "colab": {
          "base_uri": "https://localhost:8080/"
        },
        "id": "PB_Xsc3w4Pj1",
        "outputId": "b958d090-daef-48fd-da63-0607d90b012c"
      },
      "execution_count": null,
      "outputs": [
        {
          "output_type": "stream",
          "name": "stdout",
          "text": [
            "cat\n",
            "closest palindrome is cac\n"
          ]
        }
      ]
    },
    {
      "cell_type": "code",
      "source": [
        "# Write a Python program to find the closest palindrome from a given string. for closest palindrome\n",
        "#Input:\n",
        "#cat\n",
        "#Output:\n",
        "#cac\n",
        "\n",
        "s = input()\n",
        "odd=0               #for counter\n",
        "\n",
        "for i,c in enumerate(s):\n",
        "   m_index=len(s)-1-i\n",
        "   if c!=s[m_index]:\n",
        "      odd+=1\n",
        "\n",
        "if odd%2==1:\n",
        "    half=odd//2\n",
        "    pal=\"\".join (s[i]   if i< half else s[len(s)-1-i] for i in range(len(s)))\n",
        "    print(pal)\n",
        "else:\n",
        "    half=odd//2\n",
        "    pal=\"\".join((s[i] if i <= half else s[len(s)-1-i] for i in range(len(s))))\n",
        "    print(pal)\n"
      ],
      "metadata": {
        "colab": {
          "base_uri": "https://localhost:8080/"
        },
        "id": "xGLuUp5RA1Le",
        "outputId": "408d3d34-8377-4331-9355-adfbf788741b"
      },
      "execution_count": null,
      "outputs": [
        {
          "output_type": "stream",
          "name": "stdout",
          "text": [
            "cat\n",
            "cac\n"
          ]
        }
      ]
    },
    {
      "cell_type": "code",
      "source": [
        "num=1\n",
        "num_list=[]\n",
        "while num != 0:\n",
        "    num = int(input())\n",
        "    num_list.append(num)\n",
        "\n",
        "mean=sum(num_list)/(len(num_list)-1)\n",
        "print(\"Average and Sum of the above numbers are:\", mean,sum(num_list))"
      ],
      "metadata": {
        "colab": {
          "base_uri": "https://localhost:8080/"
        },
        "id": "6tyIzKiluJ_q",
        "outputId": "5cf39d21-eb02-4797-e09a-890a747fd64b"
      },
      "execution_count": null,
      "outputs": [
        {
          "output_type": "stream",
          "name": "stdout",
          "text": [
            "15\n",
            "16\n",
            "12\n",
            "0\n",
            "Average and Sum of the above numbers are: 14.333333333333334 43\n"
          ]
        }
      ]
    },
    {
      "cell_type": "code",
      "source": [
        "count = 0\n",
        "sum = 0.0\n",
        "number = 1\n",
        "\n",
        "while number != 0:\n",
        "        number = int(input())\n",
        "        sum = sum + number\n",
        "        count += 1\n",
        "\n",
        "if count == 1:\n",
        "        print(\"Input some numbers\")\n",
        "else:\n",
        "        print(\"Average and Sum of the above numbers are:\", sum / (count-1), sum)"
      ],
      "metadata": {
        "colab": {
          "base_uri": "https://localhost:8080/"
        },
        "id": "QeiBll-bKHv4",
        "outputId": "4acba0df-aa06-417d-9f0e-5f91dc9a96cb"
      },
      "execution_count": null,
      "outputs": [
        {
          "output_type": "stream",
          "name": "stdout",
          "text": [
            "2\n",
            "3\n",
            "4\n",
            "1\n",
            "0\n",
            "Average and Sum of the above numbers are: 2.5 10.0\n"
          ]
        }
      ]
    },
    {
      "cell_type": "code",
      "source": [
        "\n",
        "\n",
        "num_list=list(input())\n",
        "new_list=list()\n",
        "for num in num_list:\n",
        "  if num is int:\n",
        "    new_list=list(num)\n",
        "\n",
        "\n",
        "print(new_list)\n",
        "print(min(new_list))\n"
      ],
      "metadata": {
        "colab": {
          "base_uri": "https://localhost:8080/",
          "height": 228
        },
        "id": "O6DJ9MjcYo5P",
        "outputId": "2dab5163-56ac-41be-e9f7-272f519884cc"
      },
      "execution_count": null,
      "outputs": [
        {
          "name": "stdout",
          "output_type": "stream",
          "text": [
            "1,2,3,4,5\n"
          ]
        },
        {
          "output_type": "error",
          "ename": "ValueError",
          "evalue": "invalid literal for int() with base 10: ','",
          "traceback": [
            "\u001b[0;31m---------------------------------------------------------------------------\u001b[0m",
            "\u001b[0;31mValueError\u001b[0m                                Traceback (most recent call last)",
            "\u001b[0;32m<ipython-input-54-9856b8af1be5>\u001b[0m in \u001b[0;36m<cell line: 3>\u001b[0;34m()\u001b[0m\n\u001b[1;32m      2\u001b[0m \u001b[0mnew_list\u001b[0m\u001b[0;34m=\u001b[0m\u001b[0mlist\u001b[0m\u001b[0;34m(\u001b[0m\u001b[0;34m)\u001b[0m\u001b[0;34m\u001b[0m\u001b[0;34m\u001b[0m\u001b[0m\n\u001b[1;32m      3\u001b[0m \u001b[0;32mfor\u001b[0m \u001b[0mnum\u001b[0m \u001b[0;32min\u001b[0m \u001b[0mnum_list\u001b[0m\u001b[0;34m:\u001b[0m\u001b[0;34m\u001b[0m\u001b[0;34m\u001b[0m\u001b[0m\n\u001b[0;32m----> 4\u001b[0;31m   \u001b[0;32mif\u001b[0m \u001b[0mint\u001b[0m\u001b[0;34m(\u001b[0m\u001b[0mnum\u001b[0m\u001b[0;34m)\u001b[0m \u001b[0;32mis\u001b[0m \u001b[0mint\u001b[0m\u001b[0;34m:\u001b[0m\u001b[0;34m\u001b[0m\u001b[0;34m\u001b[0m\u001b[0m\n\u001b[0m\u001b[1;32m      5\u001b[0m     \u001b[0mnew_list\u001b[0m\u001b[0;34m=\u001b[0m\u001b[0mlist\u001b[0m\u001b[0;34m(\u001b[0m\u001b[0mnum\u001b[0m\u001b[0;34m)\u001b[0m\u001b[0;34m\u001b[0m\u001b[0;34m\u001b[0m\u001b[0m\n\u001b[1;32m      6\u001b[0m \u001b[0;34m\u001b[0m\u001b[0m\n",
            "\u001b[0;31mValueError\u001b[0m: invalid literal for int() with base 10: ','"
          ]
        }
      ]
    },
    {
      "cell_type": "code",
      "source": [
        "#Write a Python program to get the smallest number from a list.\n",
        "num_list = []\n",
        "\n",
        "while True:\n",
        "    try:\n",
        "        num = int(input())\n",
        "        num_list.append(num)\n",
        "    except ValueError:\n",
        "        # Exit the loop if the input is not an integer\n",
        "        break\n",
        "print(num_list)\n",
        "# Print the minimum value in the list\n",
        "if num_list:\n",
        "    print(min(num_list))\n",
        "else:\n",
        "    print(\"The list is empty.\")"
      ],
      "metadata": {
        "colab": {
          "base_uri": "https://localhost:8080/"
        },
        "id": "KNxIz8xPaLn9",
        "outputId": "d32f46f5-c402-420d-ef63-ef6302b852c0"
      },
      "execution_count": null,
      "outputs": [
        {
          "output_type": "stream",
          "name": "stdout",
          "text": [
            "1\n",
            "6\n",
            "78\n",
            "35\n",
            "92\n",
            "-98\n",
            "976\n",
            "-234\n",
            "e\n",
            "[1, 6, 78, 35, 92, -98, 976, -234]\n",
            "-234\n"
          ]
        }
      ]
    },
    {
      "cell_type": "code",
      "source": [
        "def smallest_num_in_list( list ):\n",
        "    min = list[ 0 ]\n",
        "    for a in list:\n",
        "    2    if a < min:\n",
        "            min = a\n",
        "    return min\n",
        "\n",
        "lst = eval(input())\n",
        "print(smallest_num_in_list(lst))"
      ],
      "metadata": {
        "colab": {
          "base_uri": "https://localhost:8080/",
          "height": 106
        },
        "id": "UdyqOkPIbnDU",
        "outputId": "961fc9a4-4566-4703-e1d8-9af4b1055eea"
      },
      "execution_count": null,
      "outputs": [
        {
          "output_type": "error",
          "ename": "IndentationError",
          "evalue": "expected an indented block after 'for' statement on line 3 (<ipython-input-44-876812b864a2>, line 4)",
          "traceback": [
            "\u001b[0;36m  File \u001b[0;32m\"<ipython-input-44-876812b864a2>\"\u001b[0;36m, line \u001b[0;32m4\u001b[0m\n\u001b[0;31m    2    if a < min:\u001b[0m\n\u001b[0m    ^\u001b[0m\n\u001b[0;31mIndentationError\u001b[0m\u001b[0;31m:\u001b[0m expected an indented block after 'for' statement on line 3\n"
          ]
        }
      ]
    },
    {
      "cell_type": "code",
      "source": [
        "#Write a Python program to check a triangle is equilateral, isosceles or scalene. Note : An equilateral triangle is a triangle in which all three sides are equal.\n",
        "#A scalene triangle is a triangle that has three unequal sides. An isosceles triangle is a triangle with (at least) two equal sides.\n",
        "\n",
        "a=int(input())\n",
        "b=int(input())\n",
        "c=int(input())\n",
        "if a==b:\n",
        "    if b==c:\n",
        "        print(\"An equilateral triangle\")\n",
        "    else:\n",
        "        print(\"An isosceles triangle\")\n",
        "elif a==c:\n",
        "    if c==b:\n",
        "        print(\"An equilateral triangle\")\n",
        "    else:\n",
        "        print(\"An isosceles triangle\")\n",
        "elif b==c:\n",
        "    if c==a:\n",
        "        print(\"An equilateral triangle\")\n",
        "    else:\n",
        "        print(\"An isosceles triangle\")\n",
        "else:\n",
        "  print(\"An scalene triangle\")\n"
      ],
      "metadata": {
        "colab": {
          "base_uri": "https://localhost:8080/"
        },
        "id": "WsyqNQWQiLdq",
        "outputId": "0de33a7b-1201-412b-dab2-2bf13289ab2a"
      },
      "execution_count": null,
      "outputs": [
        {
          "output_type": "stream",
          "name": "stdout",
          "text": [
            "3\n",
            "4\n",
            "5\n",
            "An scalene triangle\n"
          ]
        }
      ]
    },
    {
      "cell_type": "code",
      "source": [
        "#Write a Python program to check a triangle is equilateral, isosceles or scalene. Note : An equilateral triangle is a triangle in which all three sides are equal.\n",
        "#A scalene triangle is a triangle that has three unequal sides. An isosceles triangle is a triangle with (at least) two equal sides.\n",
        "x = int(input())\n",
        "y = int(input())\n",
        "z = int(input())\n",
        "\n",
        "if x == y == z:\n",
        "        print(\"Equilateral triangle\")\n",
        "elif x==y or y==z or z==x:\n",
        "        print(\"Isosceles triangle\")\n",
        "else:\n",
        "        print(\"Scalene triangle\")"
      ],
      "metadata": {
        "colab": {
          "base_uri": "https://localhost:8080/"
        },
        "id": "TZsbwRTelAHG",
        "outputId": "c954e586-9c4e-4bf7-cb63-a9dc8f119b95"
      },
      "execution_count": null,
      "outputs": [
        {
          "output_type": "stream",
          "name": "stdout",
          "text": [
            "5\n",
            "6\n",
            "7\n",
            "Scalene triangle\n"
          ]
        }
      ]
    },
    {
      "cell_type": "code",
      "source": [
        "list1=list(input())\n",
        "new_list=[]\n",
        "n=int(input())\n",
        "for i in range(0,len(list1)):\n",
        "    new_list.append(list(i))\n",
        "print(new_list)\n"
      ],
      "metadata": {
        "colab": {
          "base_uri": "https://localhost:8080/",
          "height": 228
        },
        "id": "atbJnFWqoZj3",
        "outputId": "a389f3ca-2895-4f28-b26e-0e8a6374f3c9"
      },
      "execution_count": null,
      "outputs": [
        {
          "name": "stdout",
          "output_type": "stream",
          "text": [
            "1,2,3,4,5\n",
            "2\n"
          ]
        },
        {
          "output_type": "error",
          "ename": "TypeError",
          "evalue": "'int' object is not iterable",
          "traceback": [
            "\u001b[0;31m---------------------------------------------------------------------------\u001b[0m",
            "\u001b[0;31mTypeError\u001b[0m                                 Traceback (most recent call last)",
            "\u001b[0;32m<ipython-input-69-5795fe9e6bc9>\u001b[0m in \u001b[0;36m<cell line: 4>\u001b[0;34m()\u001b[0m\n\u001b[1;32m      3\u001b[0m \u001b[0mn\u001b[0m\u001b[0;34m=\u001b[0m\u001b[0mint\u001b[0m\u001b[0;34m(\u001b[0m\u001b[0minput\u001b[0m\u001b[0;34m(\u001b[0m\u001b[0;34m)\u001b[0m\u001b[0;34m)\u001b[0m\u001b[0;34m\u001b[0m\u001b[0;34m\u001b[0m\u001b[0m\n\u001b[1;32m      4\u001b[0m \u001b[0;32mfor\u001b[0m \u001b[0mi\u001b[0m \u001b[0;32min\u001b[0m \u001b[0mrange\u001b[0m\u001b[0;34m(\u001b[0m\u001b[0;36m0\u001b[0m\u001b[0;34m,\u001b[0m\u001b[0mlen\u001b[0m\u001b[0;34m(\u001b[0m\u001b[0mlist1\u001b[0m\u001b[0;34m)\u001b[0m\u001b[0;34m)\u001b[0m\u001b[0;34m:\u001b[0m\u001b[0;34m\u001b[0m\u001b[0;34m\u001b[0m\u001b[0m\n\u001b[0;32m----> 5\u001b[0;31m     \u001b[0mnew_list\u001b[0m\u001b[0;34m.\u001b[0m\u001b[0mappend\u001b[0m\u001b[0;34m(\u001b[0m\u001b[0mlist\u001b[0m\u001b[0;34m(\u001b[0m\u001b[0mi\u001b[0m\u001b[0;34m)\u001b[0m\u001b[0;34m)\u001b[0m\u001b[0;34m\u001b[0m\u001b[0;34m\u001b[0m\u001b[0m\n\u001b[0m\u001b[1;32m      6\u001b[0m \u001b[0mprint\u001b[0m\u001b[0;34m(\u001b[0m\u001b[0mnew_list\u001b[0m\u001b[0;34m)\u001b[0m\u001b[0;34m\u001b[0m\u001b[0;34m\u001b[0m\u001b[0m\n",
            "\u001b[0;31mTypeError\u001b[0m: 'int' object is not iterable"
          ]
        }
      ]
    },
    {
      "cell_type": "code",
      "source": [
        "# Write a Python function to find the Max of three numbers.\n",
        "def maximum(x,y,z):\n",
        "    if x>y:\n",
        "        if y>z:\n",
        "          max_no = x\n",
        "        elif z>x:\n",
        "          max_no = z\n",
        "    if y>x:\n",
        "        if x>z:\n",
        "          max_no = y\n",
        "        elif z>y:\n",
        "          max_no = z\n",
        "    return max_no\n",
        "\n",
        "x = int(input())\n",
        "y = int(input())\n",
        "z = int(input())\n",
        "print(\"Maximum among three nos is \", maximum(x,y,z))\n",
        "\n"
      ],
      "metadata": {
        "colab": {
          "base_uri": "https://localhost:8080/"
        },
        "id": "l4KbingSf8LQ",
        "outputId": "550360e0-ceab-4c58-d155-93ffca5b2c9b"
      },
      "execution_count": null,
      "outputs": [
        {
          "output_type": "stream",
          "name": "stdout",
          "text": [
            "3\n",
            "4\n",
            "5\n",
            "Maximum among three nos is  5\n"
          ]
        }
      ]
    },
    {
      "cell_type": "code",
      "source": [
        "# Write a Python function to find the Max of three numbers.\n",
        "# Try to take list of numbers and fins maximum among them. use recurrsion function if necessary.\n",
        "def max_of_two(x,y):\n",
        "    if x>y:\n",
        "       return x\n",
        "    return y\n",
        "def max_of_three(x,y,z):\n",
        "     return max_of_two(x,max_of_two(y,z))\n",
        "\n",
        "x = int(input())\n",
        "y = int(input())\n",
        "z = int(input())\n",
        "print(max_of_three(x,y,z))"
      ],
      "metadata": {
        "id": "xaZThuWgid5-"
      },
      "execution_count": null,
      "outputs": []
    },
    {
      "cell_type": "code",
      "source": [
        "def is_greater_than_one(n):\n",
        "    return n > 1 and all(n % j for j in range(2, int(n ** 0.5) + 1))\n",
        "n=int(input())\n",
        "print(type(is_greater_than_one(n)))\n"
      ],
      "metadata": {
        "colab": {
          "base_uri": "https://localhost:8080/"
        },
        "id": "1ROVfJU3adCu",
        "outputId": "7ada8668-eb37-4046-f24e-97fdda357309"
      },
      "execution_count": null,
      "outputs": [
        {
          "output_type": "stream",
          "name": "stdout",
          "text": [
            "7\n",
            "<class 'bool'>\n"
          ]
        }
      ]
    },
    {
      "cell_type": "code",
      "source": [
        "# 2-D matrix\n",
        "# Input for row and column\n",
        "R = int(input())\n",
        "C = int(input())\n",
        "\n",
        "matrix = []\n",
        "\n",
        "# for loop for row entries\n",
        "for i in range(R):\n",
        "\ta =[]\n",
        "\n",
        "\t# for loop for column entries\n",
        "\tfor j in range(C):\n",
        "\t\ta.append(int(input()))\n",
        "\tmatrix.append(a)\n",
        "\n",
        "print(matrix)\n"
      ],
      "metadata": {
        "colab": {
          "base_uri": "https://localhost:8080/"
        },
        "id": "J5PRPhfjgDPm",
        "outputId": "4dd4bd20-b812-4bec-f7bc-1c85ed51cbfe"
      },
      "execution_count": null,
      "outputs": [
        {
          "output_type": "stream",
          "name": "stdout",
          "text": [
            "3\n",
            "3\n",
            "1\n",
            "2\n",
            "3\n",
            "4\n",
            "5\n",
            "6\n",
            "7\n",
            "8\n",
            "9\n",
            "[[1, 2, 3], [4, 5, 6], [7, 8, 9]]\n"
          ]
        }
      ]
    },
    {
      "cell_type": "code",
      "source": [
        "# 2-D matrix another method\n",
        "# Input for row and column\n",
        "R = int(input())\n",
        "C = int(input())\n",
        "\n",
        "# Using list comprehension for input\n",
        "matrix = [[int(input()) for x in range (C)] for y in range(R)]\n"
      ],
      "metadata": {
        "id": "dk_lN2TUg3wg"
      },
      "execution_count": null,
      "outputs": []
    },
    {
      "cell_type": "code",
      "source": [
        "#One-Liner : Loops through a list of words and returns a new list containing all elements that are present on the given string.\n",
        "#To better explain the code I recommend you to open this A good use case for this code is as a basic profanity filter.\n",
        "#Change the list into a list of vulgar words and use the one liner function to check all user input for vulgar words through this code.\n",
        "\n",
        "# Code starts from here.\n",
        "\n",
        "#: sample list\n",
        "list = ['hello', 'welcome', 'guest', 'show']\n",
        "#: sample string\n",
        "sentence = \"Hello world! I'm here to show you a word filter\"\n",
        "\n",
        "#: print all words in list that are present in sentence\n",
        "print([word for word in list if word in (\"\".join(word for word in sentence.lower() if word.isalpha() or word.isnumeric() or word == \" \")).split(\" \")])\n"
      ],
      "metadata": {
        "colab": {
          "base_uri": "https://localhost:8080/"
        },
        "id": "agNi2ZeAjo1o",
        "outputId": "23ae0ea8-cd70-4605-fb0a-3f31cc5aff9c"
      },
      "execution_count": null,
      "outputs": [
        {
          "output_type": "stream",
          "name": "stdout",
          "text": [
            "['hello', 'show']\n"
          ]
        }
      ]
    },
    {
      "cell_type": "code",
      "source": [
        "#star pattern\n",
        "for i in range(0, 5):\n",
        "\n",
        "\t\tfor j in range(0, i + 1):\n",
        "\t\t\t# printing stars\n",
        "\t\t\tprint(\"* \", end =\"\")\n",
        "\n",
        "\t\t# ending line after each row\n",
        "\t\tprint(\"\\r\")\n"
      ],
      "metadata": {
        "colab": {
          "base_uri": "https://localhost:8080/"
        },
        "id": "WeUi_fbWnoGL",
        "outputId": "cbe6a612-2e10-4f9d-90bc-bccd2981d82d"
      },
      "execution_count": null,
      "outputs": [
        {
          "output_type": "stream",
          "name": "stdout",
          "text": [
            "* \r\n",
            "* * \r\n",
            "* * * \r\n",
            "* * * * \r\n",
            "* * * * * \r\n"
          ]
        }
      ]
    },
    {
      "cell_type": "code",
      "source": [
        "#oneliner for just above coding\n",
        "n = 5\n",
        "\n",
        "# one liner code for half pyramid pattern\n",
        "print('\\n'.join('* ' * i for i in range(1, n + 1)))"
      ],
      "metadata": {
        "colab": {
          "base_uri": "https://localhost:8080/"
        },
        "id": "8Y8kXR_omloF",
        "outputId": "2a8a4052-de6b-4536-f59d-8e38b327c25c"
      },
      "execution_count": null,
      "outputs": [
        {
          "output_type": "stream",
          "name": "stdout",
          "text": [
            "* \n",
            "* * \n",
            "* * * \n",
            "* * * * \n",
            "* * * * * \n"
          ]
        }
      ]
    },
    {
      "cell_type": "code",
      "source": [
        "#One-Liner : List comprehensions – This is a concise way to create lists. Instead of doing it the usual way, we can make use of list comprehensions.\n",
        "#For example, we want to create a list of even numbers till 11. The normal way of doing this is:\n",
        "evenNumbers =[]\n",
        "for x in range(11):\n",
        "\tif x % 2 == 0:\n",
        "\t\tevenNumbers.append(x)\n",
        "\n",
        "print(evenNumbers)\n"
      ],
      "metadata": {
        "colab": {
          "base_uri": "https://localhost:8080/"
        },
        "id": "O3C_anIPoUUX",
        "outputId": "38bdae84-f2a3-41a6-cc3a-8a56c75c68da"
      },
      "execution_count": null,
      "outputs": [
        {
          "output_type": "stream",
          "name": "stdout",
          "text": [
            "[0, 2, 4, 6, 8, 10]\n"
          ]
        }
      ]
    },
    {
      "cell_type": "code",
      "source": [
        "evenNumbers =[x for x in range(11) if x % 2 == 0]\n",
        "print(evenNumbers)\n"
      ],
      "metadata": {
        "colab": {
          "base_uri": "https://localhost:8080/"
        },
        "id": "Ida49YM_oqsW",
        "outputId": "a806c431-9e0c-437f-eb79-cd428b2fbd70"
      },
      "execution_count": null,
      "outputs": [
        {
          "output_type": "stream",
          "name": "stdout",
          "text": [
            "[0, 2, 4, 6, 8, 10]\n"
          ]
        }
      ]
    },
    {
      "cell_type": "code",
      "source": [
        "print([x for x in range(11) if x % 2 == 0])"
      ],
      "metadata": {
        "colab": {
          "base_uri": "https://localhost:8080/"
        },
        "id": "wWONOv1dowkF",
        "outputId": "2a100b83-2999-471b-8918-664c7d3265c2"
      },
      "execution_count": null,
      "outputs": [
        {
          "output_type": "stream",
          "name": "stdout",
          "text": [
            "[0, 2, 4, 6, 8, 10]\n"
          ]
        }
      ]
    },
    {
      "cell_type": "code",
      "source": [
        "#Write a Python program to find the string consisting of all the words whose lengths are prime numbers.\n",
        "#Input:The quick brown fox jumps over the lazy dog.\n",
        "#Output:The quick brown fox jumps the\n",
        "def test(strs):\n",
        "    return \" \".join(strs for strs in strs.split() if is_prime(len(strs)))\n",
        "def is_prime(n):\n",
        "    return n > 1 and all(n % j for j in range(2, int(n ** 0.5) + 1))\n",
        "strs = input()\n",
        "print(test(strs))"
      ],
      "metadata": {
        "colab": {
          "base_uri": "https://localhost:8080/"
        },
        "id": "9oUU4DQCsTXB",
        "outputId": "6d2fc544-ca9a-461d-cd3c-2e53222cd1a3"
      },
      "execution_count": null,
      "outputs": [
        {
          "output_type": "stream",
          "name": "stdout",
          "text": [
            "The quick brown fox jumps over the lazy dog\n",
            "The quick brown fox jumps the dog\n"
          ]
        }
      ]
    },
    {
      "cell_type": "code",
      "source": [
        "def printMax(a, b):\n",
        "   if a > b:\n",
        "      print(a, 'is maximum')\n",
        "   elif a == b:\n",
        "       print(a, 'is equal to', b)\n",
        "   else:\n",
        "        print(b, 'is maximum')\n",
        "printMax(3, 4)"
      ],
      "metadata": {
        "colab": {
          "base_uri": "https://localhost:8080/"
        },
        "id": "9dyGBVtRvz7Y",
        "outputId": "795647fe-33ef-49b2-c419-5a7b08b92b58"
      },
      "execution_count": null,
      "outputs": [
        {
          "output_type": "stream",
          "name": "stdout",
          "text": [
            "4 is maximum\n"
          ]
        }
      ]
    },
    {
      "cell_type": "code",
      "source": [
        "#In a job interview, Mihir was asked to find count of all contiguous substrings starting and ending with same character, for a given string S.\n",
        "#After an interview, he wrote the recursive python program to check the answer.So, let's practice the same, and write a recursive python function.\n",
        "#Example 1:\n",
        "#Input:abcab\n",
        "#Output:7\n",
        "#Explanation:There are 15 substrings of \"abcab\" a, ab, abc, abca, abcab, b, bc, bca bcab, c, ca, cab, a, ab, b\n",
        "#Out of the above substrings, there are 7 substrings : a, abca, b, bcab, c, a and b.\n",
        "#Example 2:\n",
        "#Input:aba\n",
        "#Output:4\n",
        "#Explanation:The substrings are a, b, a and aba\n",
        "\n",
        "def countSubstrs(str, i, j, n):\n",
        "\n",
        "    # base cases\n",
        "    if (n == 1):\n",
        "        return 1\n",
        "    if (n <= 0):\n",
        "        return 0\n",
        "\n",
        "    res = (countSubstrs(str, i + 1, j, n - 1)\n",
        "        + countSubstrs(str, i, j - 1, n - 1)\n",
        "        - countSubstrs(str, i + 1, j - 1, n - 2))\n",
        "    if (str[i] == str[j]):\n",
        "        res += 1\n",
        "\n",
        "    return res\n",
        "\n",
        "# driver code\n",
        "str = input()\n",
        "n = len(str)\n",
        "print(countSubstrs(str, 0, n - 1, n))"
      ],
      "metadata": {
        "colab": {
          "base_uri": "https://localhost:8080/"
        },
        "id": "YU42H8-rIj4M",
        "outputId": "6c0ffd34-437b-4f39-f232-d86d24995a43"
      },
      "execution_count": null,
      "outputs": [
        {
          "output_type": "stream",
          "name": "stdout",
          "text": [
            "abcab\n",
            "<class 'int'>\n",
            "<class 'int'>\n",
            "<class 'int'>\n",
            "<class 'int'>\n",
            "<class 'int'>\n",
            "<class 'int'>\n",
            "<class 'int'>\n",
            "<class 'int'>\n",
            "<class 'int'>\n",
            "<class 'int'>\n",
            "<class 'int'>\n",
            "<class 'int'>\n",
            "<class 'int'>\n",
            "<class 'int'>\n",
            "<class 'int'>\n",
            "<class 'int'>\n",
            "<class 'int'>\n",
            "<class 'int'>\n",
            "<class 'int'>\n",
            "<class 'int'>\n",
            "7\n"
          ]
        }
      ]
    },
    {
      "cell_type": "code",
      "source": [
        "pi\n"
      ],
      "metadata": {
        "id": "OylyVKYoCu25"
      },
      "execution_count": null,
      "outputs": []
    },
    {
      "cell_type": "code",
      "source": [
        "my_dict = {\"a\": 1, \"b\": 2, \"c\": 3}\n",
        "print(my_dict.keys())"
      ],
      "metadata": {
        "colab": {
          "base_uri": "https://localhost:8080/"
        },
        "id": "aMnpMq2MUeW1",
        "outputId": "19cc0037-e762-4b07-d5c5-4158fe7a9c31"
      },
      "execution_count": null,
      "outputs": [
        {
          "output_type": "stream",
          "name": "stdout",
          "text": [
            "dict_keys(['a', 'b', 'c'])\n"
          ]
        }
      ]
    },
    {
      "cell_type": "code",
      "source": [
        "my_string = \"hello world\"\n",
        "print(my_string[-5:-2])\n"
      ],
      "metadata": {
        "colab": {
          "base_uri": "https://localhost:8080/"
        },
        "id": "XADJVQjaVpYt",
        "outputId": "256020f2-e91a-47c7-fe37-27361fe6d280"
      },
      "execution_count": null,
      "outputs": [
        {
          "output_type": "stream",
          "name": "stdout",
          "text": [
            "wor\n"
          ]
        }
      ]
    },
    {
      "cell_type": "code",
      "source": [
        "x=list(range(3))\n",
        "y=list(range(1,3))\n",
        "z=list(range(1,7,2))\n",
        "print(x,y,z)\n"
      ],
      "metadata": {
        "colab": {
          "base_uri": "https://localhost:8080/"
        },
        "id": "YTz7mDCdXZrr",
        "outputId": "b77f7a07-8b63-42ec-b51a-79363add2770"
      },
      "execution_count": null,
      "outputs": [
        {
          "output_type": "stream",
          "name": "stdout",
          "text": [
            "[0, 1, 2] [1, 2] [1, 3, 5]\n"
          ]
        }
      ]
    },
    {
      "cell_type": "code",
      "source": [
        "fruits = ['apple', 'banana', 'cherry']\n",
        "for i, fruit in enumerate(fruits):\n",
        "    print(i, fruit)\n"
      ],
      "metadata": {
        "id": "_IsUjcJDYktd",
        "outputId": "86674416-e002-416c-92a2-cad39008a0a2",
        "colab": {
          "base_uri": "https://localhost:8080/"
        }
      },
      "execution_count": null,
      "outputs": [
        {
          "output_type": "stream",
          "name": "stdout",
          "text": [
            "0 apple\n",
            "1 banana\n",
            "2 cherry\n"
          ]
        }
      ]
    },
    {
      "cell_type": "code",
      "source": [
        "names = ['Alice', 'Bob', 'Charlie']\n",
        "scores = [85, 92, 78]\n",
        "\n",
        "# Create an empty dictionary to store the key-value pairs\n",
        "my_dict = {}\n",
        "\n",
        "# Use the zip() function to create key-value pairs from the names and scores lists\n",
        "for name, score in zip(names, scores):\n",
        "    # Update the dictionary with the key-value pair\n",
        "    my_dict[name] = score\n",
        "\n",
        "# Print the dictionary\n",
        "print(my_dict)\n",
        "\n",
        "# Print the key-value pairs in the dictionary\n",
        "for name, score in my_dict.items():\n",
        "    print(f\"{name}: {score}\")\n",
        "\n"
      ],
      "metadata": {
        "colab": {
          "base_uri": "https://localhost:8080/"
        },
        "id": "lGqeNXfP6xuA",
        "outputId": "21bd4a68-8659-4edf-e0b9-91d479ecefe3"
      },
      "execution_count": 7,
      "outputs": [
        {
          "output_type": "stream",
          "name": "stdout",
          "text": [
            "{'Alice': 85, 'Bob': 92, 'Charlie': 78}\n",
            "Alice: 85\n",
            "Bob: 92\n",
            "Charlie: 78\n"
          ]
        }
      ]
    },
    {
      "cell_type": "code",
      "source": [
        "# Write your code here\n",
        "\n",
        "nums = eval(input())\n",
        "list_WO_None=[x for x in nums if x != None]\n",
        "list_WO_None\n"
      ],
      "metadata": {
        "colab": {
          "base_uri": "https://localhost:8080/"
        },
        "id": "pfaE4hQw-au1",
        "outputId": "18ff8598-d178-46ac-e965-8b8c4d907af8"
      },
      "execution_count": 25,
      "outputs": [
        {
          "name": "stdout",
          "output_type": "stream",
          "text": [
            "[12, 0, None, 23, None, -55, 234, 89, None, 0, 6, -12]\n"
          ]
        },
        {
          "output_type": "execute_result",
          "data": {
            "text/plain": [
              "[12, 0, 23, -55, 234, 89, 0, 6, -12]"
            ]
          },
          "metadata": {},
          "execution_count": 25
        }
      ]
    },
    {
      "cell_type": "code",
      "source": [
        "list1=eval(input())\n",
        "list2=eval(input())\n",
        "list3 = [list1.remove(i) for i in list1 for j in list2 if i==j]\n",
        "print(list3)"
      ],
      "metadata": {
        "colab": {
          "base_uri": "https://localhost:8080/"
        },
        "id": "hfn1srbxJrQ3",
        "outputId": "93ad6584-2523-4904-9b80-ae3e7d67ca70"
      },
      "execution_count": 28,
      "outputs": [
        {
          "output_type": "stream",
          "name": "stdout",
          "text": [
            "[1,2,3,4,5,6,7,8,9,10]\n",
            "[2,4,6,8]\n",
            "[None, None, None, None]\n"
          ]
        }
      ]
    },
    {
      "cell_type": "code",
      "source": [
        "strng=input()\n",
        "char_count={}\n",
        "for x in strng:\n",
        "   count=0\n",
        "   for i in strng:\n",
        "      if x==i:\n",
        "         count+=1\n",
        "   char_count.update({x:count})\n",
        "\n",
        "print(char_count)"
      ],
      "metadata": {
        "colab": {
          "base_uri": "https://localhost:8080/"
        },
        "id": "IkwBpRqCPjDg",
        "outputId": "39bdf2c9-659d-490c-9064-a58eaccdc8e1"
      },
      "execution_count": 34,
      "outputs": [
        {
          "output_type": "stream",
          "name": "stdout",
          "text": [
            "darshan\n",
            "{'d': 1, 'a': 2, 'r': 1, 's': 1, 'h': 1, 'n': 1}\n"
          ]
        }
      ]
    },
    {
      "cell_type": "code",
      "source": [
        "strng=input()\n",
        "char_count={x:strng.count(x) for x in strng}\n",
        "char_count"
      ],
      "metadata": {
        "colab": {
          "base_uri": "https://localhost:8080/"
        },
        "id": "FqkXLFaKSHgg",
        "outputId": "800030c8-9af2-41ef-a660-dd9977faf0a5"
      },
      "execution_count": 37,
      "outputs": [
        {
          "name": "stdout",
          "output_type": "stream",
          "text": [
            "darshan\n"
          ]
        },
        {
          "output_type": "execute_result",
          "data": {
            "text/plain": [
              "{'d': 1, 'a': 2, 'r': 1, 's': 1, 'h': 1, 'n': 1}"
            ]
          },
          "metadata": {},
          "execution_count": 37
        }
      ]
    },
    {
      "cell_type": "code",
      "source": [
        "strng = input()\n",
        "char_count = {}\n",
        "for i in strng:\n",
        "    char_count[i] = char_count.get(i, 0) + 1\n",
        "print(char_count)"
      ],
      "metadata": {
        "colab": {
          "base_uri": "https://localhost:8080/"
        },
        "id": "lkNYrMnBYzVP",
        "outputId": "c0fc694c-a35e-4b9b-8c7d-ea3427ce4289"
      },
      "execution_count": 41,
      "outputs": [
        {
          "output_type": "stream",
          "name": "stdout",
          "text": [
            "darshan\n",
            "{'d': 1, 'a': 2, 'r': 1, 's': 1, 'h': 1, 'n': 1}\n"
          ]
        }
      ]
    },
    {
      "cell_type": "code",
      "source": [
        "strng = input()\n",
        "char_count = {}\n",
        "char = { i:char_count char_count[i] + 1 if i in char_count  else char_count=1 for i in strng}\n",
        "print(char)"
      ],
      "metadata": {
        "colab": {
          "base_uri": "https://localhost:8080/",
          "height": 106
        },
        "id": "mO937dUQa2II",
        "outputId": "822f5c38-4149-4e58-bef4-8b0ae55e8356"
      },
      "execution_count": 56,
      "outputs": [
        {
          "output_type": "error",
          "ename": "SyntaxError",
          "evalue": "invalid syntax (<ipython-input-56-4ba10e278618>, line 3)",
          "traceback": [
            "\u001b[0;36m  File \u001b[0;32m\"<ipython-input-56-4ba10e278618>\"\u001b[0;36m, line \u001b[0;32m3\u001b[0m\n\u001b[0;31m    char = { i:char_count[i] + 1 if i in char_count  else char_count=1 for i in strng}\u001b[0m\n\u001b[0m                                                                    ^\u001b[0m\n\u001b[0;31mSyntaxError\u001b[0m\u001b[0;31m:\u001b[0m invalid syntax\n"
          ]
        }
      ]
    },
    {
      "cell_type": "code",
      "source": [
        "strng = input()\n",
        "char_count = {}\n",
        "char = {i: char_count[i] + 1 if i in char_count else 1 for i in strng}\n",
        "print(char)"
      ],
      "metadata": {
        "colab": {
          "base_uri": "https://localhost:8080/"
        },
        "id": "fVINJSUkXIKx",
        "outputId": "9ebb50f4-239d-4035-d5d9-0b593a16f309"
      },
      "execution_count": 48,
      "outputs": [
        {
          "output_type": "stream",
          "name": "stdout",
          "text": [
            "darshan\n",
            "{'d': 1, 'a': 1, 'r': 1, 's': 1, 'h': 1, 'n': 1}\n"
          ]
        }
      ]
    },
    {
      "cell_type": "code",
      "source": [
        "strng = input()\n",
        "char_count = {}\n",
        "char = {i:char_count char_count.get(i,0)+1 for i in strng}\n",
        "print(char)"
      ],
      "metadata": {
        "colab": {
          "base_uri": "https://localhost:8080/",
          "height": 106
        },
        "id": "C1t7ITeAeQOP",
        "outputId": "3af791a0-af9a-4603-f6e1-86d04d3dde45"
      },
      "execution_count": 59,
      "outputs": [
        {
          "output_type": "error",
          "ename": "SyntaxError",
          "evalue": "invalid syntax. Perhaps you forgot a comma? (<ipython-input-59-1dcdb5e18234>, line 3)",
          "traceback": [
            "\u001b[0;36m  File \u001b[0;32m\"<ipython-input-59-1dcdb5e18234>\"\u001b[0;36m, line \u001b[0;32m3\u001b[0m\n\u001b[0;31m    char = {i:char_count char_count.get(i,0)+1 for i in strng}\u001b[0m\n\u001b[0m              ^\u001b[0m\n\u001b[0;31mSyntaxError\u001b[0m\u001b[0;31m:\u001b[0m invalid syntax. Perhaps you forgot a comma?\n"
          ]
        }
      ]
    },
    {
      "cell_type": "code",
      "source": [
        "example={1: 'apple', 2: 'banana', 3: 'cherry'}\n",
        "example"
      ],
      "metadata": {
        "colab": {
          "base_uri": "https://localhost:8080/"
        },
        "id": "Ekm1v05cbzIq",
        "outputId": "5bc090ce-f12c-4bbb-bf76-6df8573c70e5"
      },
      "execution_count": 50,
      "outputs": [
        {
          "output_type": "execute_result",
          "data": {
            "text/plain": [
              "{1: 'apple', 2: 'banana', 3: 'cherry'}"
            ]
          },
          "metadata": {},
          "execution_count": 50
        }
      ]
    }
  ]
}