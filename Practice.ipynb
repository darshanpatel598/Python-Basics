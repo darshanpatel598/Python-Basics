{
  "nbformat": 4,
  "nbformat_minor": 0,
  "metadata": {
    "colab": {
      "provenance": [],
      "authorship_tag": "ABX9TyPaIhI8BgkcnrgO0OqhR4r/",
      "include_colab_link": true
    },
    "kernelspec": {
      "name": "python3",
      "display_name": "Python 3"
    },
    "language_info": {
      "name": "python"
    }
  },
  "cells": [
    {
      "cell_type": "markdown",
      "metadata": {
        "id": "view-in-github",
        "colab_type": "text"
      },
      "source": [
        "<a href=\"https://colab.research.google.com/github/darshanpatel598/Python-Basics/blob/main/Practice.ipynb\" target=\"_parent\"><img src=\"https://colab.research.google.com/assets/colab-badge.svg\" alt=\"Open In Colab\"/></a>"
      ]
    },
    {
      "cell_type": "code",
      "execution_count": 15,
      "metadata": {
        "colab": {
          "base_uri": "https://localhost:8080/"
        },
        "id": "gixGn8TqobfU",
        "outputId": "7941a113-36ca-410b-a432-b5e79d9980d6"
      },
      "outputs": [
        {
          "output_type": "stream",
          "name": "stdout",
          "text": [
            "2024\n",
            "12\n",
            "1\n",
            "The next date is [yyyy-mm-dd] 2024-12-2.\n"
          ]
        }
      ],
      "source": [
        "#Write a Python Program for Mr. Harry to automatically reschedule a meeting to the next date whenever it is not held on the current date.\n",
        "\n",
        "#Sample\n",
        "\n",
        "#Input a year: 1974\n",
        "#Input a month [1-12]: 2\n",
        "#Input a day [1-31]: 15\n",
        "#The next date is [yyyy-mm-dd] 1974-2-16.\n",
        "\n",
        "year = int(input())\n",
        "month = int(input())\n",
        "day = int(input())\n",
        "\n",
        "if (year % 400 == 0):\n",
        "  leap_year = True\n",
        "elif (year % 100 == 0):\n",
        "  leap_year = False\n",
        "elif (year % 4 == 0):\n",
        "  leap_year = True\n",
        "else:\n",
        "  leap_year = False\n",
        "\n",
        "\n",
        "if month in (1, 3, 5, 7, 8, 10, 12):\n",
        "  month_length = 31\n",
        "elif month == 2:\n",
        "  if leap_year:\n",
        "    month_length = 29\n",
        "  else:\n",
        "    month_length = 28\n",
        "else:\n",
        "  month_length = 30\n",
        "\n",
        "if day < month_length:\n",
        "  day += 1\n",
        "else:\n",
        "  day = 1\n",
        "  if month == 12:\n",
        "    month = 1\n",
        "    year += 1\n",
        "  else:\n",
        "    month += 1\n",
        "print (\"The next date is [yyyy-mm-dd] %d-%d-%d.\" % (year, month, day))"
      ]
    },
    {
      "cell_type": "code",
      "source": [
        "#Write a Python program to print the following pattern of numbers in n rows to display on art board in maths exhibition.\n",
        "\n",
        "#Example 1:\n",
        "#Input:\n",
        "#4\n",
        "\n",
        "#Output:\n",
        "#1\n",
        "\n",
        "#22\n",
        "\n",
        "#333\n",
        "\n",
        "#4444\n",
        "\n",
        "a=int(input())\n",
        "for i in range(1,a+1):\n",
        "    print(i*str(i))"
      ],
      "metadata": {
        "colab": {
          "base_uri": "https://localhost:8080/"
        },
        "id": "Sv5i5u3Krw7E",
        "outputId": "63c4af75-addb-42bd-94ca-654724b2723f"
      },
      "execution_count": 16,
      "outputs": [
        {
          "output_type": "stream",
          "name": "stdout",
          "text": [
            "5\n",
            "1\n",
            "22\n",
            "333\n",
            "4444\n",
            "55555\n"
          ]
        }
      ]
    },
    {
      "cell_type": "code",
      "source": [
        "char = input()\n",
        "\n",
        "if char in \"aeiouAEIOU\":\n",
        "  print(\"Vowel\")\n",
        "else:\n",
        "  print(\"Consonant\")"
      ],
      "metadata": {
        "id": "rG8hcQyV6wtk",
        "outputId": "dfada89e-5105-4dfa-8336-1ef2857e7741",
        "colab": {
          "base_uri": "https://localhost:8080/"
        }
      },
      "execution_count": 18,
      "outputs": [
        {
          "output_type": "stream",
          "name": "stdout",
          "text": [
            "e\n",
            "Vowel\n"
          ]
        }
      ]
    },
    {
      "cell_type": "code",
      "source": [
        "#In a competition, participants were given a number to sum its digits until it was a single-digit number. So, write a Python program to add the digits of a positive integer repeatedly until the result has a single digit.\n",
        "#Example 1:\n",
        "#Input:\n",
        "#7548\n",
        "#Output:\n",
        "#Step-1 Sum: 24\n",
        "#Step-2 Sum: 6\n",
        "\n",
        "\n",
        "number = int(input())\n",
        "# Finding sum\n",
        "total_sum = 0\n",
        "step = 1\n",
        "\n",
        "condition = True\n",
        "\n",
        "while condition:\n",
        "\n",
        "    while number:\n",
        "        total_sum += number%10\n",
        "        number //= 10\n",
        "\n",
        "    print(\"Step-%d Sum: %d\" %(step, total_sum))\n",
        "    number = total_sum\n",
        "    total_sum = 0\n",
        "    step += 1\n",
        "    condition = number > 9\n",
        "\n"
      ],
      "metadata": {
        "id": "x9qtAl9ZSv3S",
        "colab": {
          "base_uri": "https://localhost:8080/"
        },
        "outputId": "3c198037-cc39-41ef-a9d0-79884e4629cc"
      },
      "execution_count": 19,
      "outputs": [
        {
          "output_type": "stream",
          "name": "stdout",
          "text": [
            "1783\n",
            "Step-1 Sum: 19\n",
            "Step-2 Sum: 10\n",
            "Step-3 Sum: 1\n"
          ]
        }
      ]
    },
    {
      "cell_type": "code",
      "source": [
        "# Write a Python program to find the closest palindrome from a given string. for closest palindrome\n",
        "#Input:\n",
        "#cat\n",
        "#Output:\n",
        "#cac\n",
        "\n",
        "st = input()\n",
        "\n",
        "new_str = ''\n",
        "\n",
        "for i in range(0,len(st)):\n",
        "  if st[i]==st[len(st)-i-1]:\n",
        "     print(\"Given word is Palindrom\")\n",
        "     break\n",
        "  elif i <len(st)/2:\n",
        "     new_str = st[:len(st)//2] + st[len(st)//2::-1]\n",
        "     print(\"closest palindrome is\", new_str)\n",
        "     break"
      ],
      "metadata": {
        "colab": {
          "base_uri": "https://localhost:8080/"
        },
        "id": "PB_Xsc3w4Pj1",
        "outputId": "b958d090-daef-48fd-da63-0607d90b012c"
      },
      "execution_count": 19,
      "outputs": [
        {
          "output_type": "stream",
          "name": "stdout",
          "text": [
            "cat\n",
            "closest palindrome is cac\n"
          ]
        }
      ]
    },
    {
      "cell_type": "code",
      "source": [
        "# Write a Python program to find the closest palindrome from a given string. for closest palindrome\n",
        "#Input:\n",
        "#cat\n",
        "#Output:\n",
        "#cac\n",
        "\n",
        "s = input()\n",
        "odd=0               #for counter\n",
        "\n",
        "for i,c in enumerate(s):\n",
        "   m_index=len(s)-1-i\n",
        "   if c!=s[m_index]:\n",
        "      odd+=1\n",
        "\n",
        "if odd%2==1:\n",
        "    half=odd//2\n",
        "    pal=\"\".join ((s[i]   if i< half else s[len(s)-1-i] for i in range(len(s))))\n",
        "    print(pal)\n",
        "else:\n",
        "    half=odd//2\n",
        "    pal=\"\".join((s[i] if i <= half else s[len(s)-1-i] for i in range(len(s))))\n",
        "    print(pal)\n",
        ""
      ],
      "metadata": {
        "colab": {
          "base_uri": "https://localhost:8080/"
        },
        "id": "xGLuUp5RA1Le",
        "outputId": "ab88fd45-adaf-4e7a-a39c-8157d3ac0bdb"
      },
      "execution_count": 20,
      "outputs": [
        {
          "output_type": "stream",
          "name": "stdout",
          "text": [
            "cat\n",
            "cac\n"
          ]
        }
      ]
    },
    {
      "cell_type": "code",
      "source": [
        "num=1\n",
        "num_list=[]\n",
        "while num != 0:\n",
        "    num = int(input())\n",
        "    num_list.append(num)\n",
        "\n",
        "for num in num_list:\n",
        "    total_sum = num+0\n",
        "4\n",
        "mean=total_sum/(len(num_list)-1)\n",
        "print(\"Average and Sum of the above numbers are:\", mean,total_sum)"
      ],
      "metadata": {
        "colab": {
          "base_uri": "https://localhost:8080/",
          "height": 245
        },
        "id": "6tyIzKiluJ_q",
        "outputId": "661d281b-073c-4e5a-f0a7-83574acccdd7"
      },
      "execution_count": 29,
      "outputs": [
        {
          "name": "stdout",
          "output_type": "stream",
          "text": [
            "2\n",
            "\n"
          ]
        },
        {
          "output_type": "error",
          "ename": "ValueError",
          "evalue": "invalid literal for int() with base 10: ''",
          "traceback": [
            "\u001b[0;31m---------------------------------------------------------------------------\u001b[0m",
            "\u001b[0;31mValueError\u001b[0m                                Traceback (most recent call last)",
            "\u001b[0;32m<ipython-input-29-833fffe7a2e8>\u001b[0m in \u001b[0;36m<cell line: 3>\u001b[0;34m()\u001b[0m\n\u001b[1;32m      2\u001b[0m \u001b[0mnum_list\u001b[0m\u001b[0;34m=\u001b[0m\u001b[0;34m[\u001b[0m\u001b[0;34m]\u001b[0m\u001b[0;34m\u001b[0m\u001b[0;34m\u001b[0m\u001b[0m\n\u001b[1;32m      3\u001b[0m \u001b[0;32mwhile\u001b[0m \u001b[0mnum\u001b[0m \u001b[0;34m!=\u001b[0m \u001b[0;36m0\u001b[0m\u001b[0;34m:\u001b[0m\u001b[0;34m\u001b[0m\u001b[0;34m\u001b[0m\u001b[0m\n\u001b[0;32m----> 4\u001b[0;31m     \u001b[0mnum\u001b[0m \u001b[0;34m=\u001b[0m \u001b[0mint\u001b[0m\u001b[0;34m(\u001b[0m\u001b[0minput\u001b[0m\u001b[0;34m(\u001b[0m\u001b[0;34m)\u001b[0m\u001b[0;34m)\u001b[0m\u001b[0;34m\u001b[0m\u001b[0;34m\u001b[0m\u001b[0m\n\u001b[0m\u001b[1;32m      5\u001b[0m     \u001b[0mnum_list\u001b[0m\u001b[0;34m.\u001b[0m\u001b[0mappend\u001b[0m\u001b[0;34m(\u001b[0m\u001b[0mnum\u001b[0m\u001b[0;34m)\u001b[0m\u001b[0;34m\u001b[0m\u001b[0;34m\u001b[0m\u001b[0m\n\u001b[1;32m      6\u001b[0m \u001b[0;34m\u001b[0m\u001b[0m\n",
            "\u001b[0;31mValueError\u001b[0m: invalid literal for int() with base 10: ''"
          ]
        }
      ]
    },
    {
      "cell_type": "code",
      "source": [
        "\n",
        "\n",
        "num_list=list(input())\n",
        "new_list=list()\n",
        "for num in num_list:\n",
        "  if num is int:\n",
        "    new_list=list(num)\n",
        "\n",
        "\n",
        "print(new_list)\n",
        "print(min(new_list))\n"
      ],
      "metadata": {
        "colab": {
          "base_uri": "https://localhost:8080/",
          "height": 228
        },
        "id": "O6DJ9MjcYo5P",
        "outputId": "2dab5163-56ac-41be-e9f7-272f519884cc"
      },
      "execution_count": 54,
      "outputs": [
        {
          "name": "stdout",
          "output_type": "stream",
          "text": [
            "1,2,3,4,5\n"
          ]
        },
        {
          "output_type": "error",
          "ename": "ValueError",
          "evalue": "invalid literal for int() with base 10: ','",
          "traceback": [
            "\u001b[0;31m---------------------------------------------------------------------------\u001b[0m",
            "\u001b[0;31mValueError\u001b[0m                                Traceback (most recent call last)",
            "\u001b[0;32m<ipython-input-54-9856b8af1be5>\u001b[0m in \u001b[0;36m<cell line: 3>\u001b[0;34m()\u001b[0m\n\u001b[1;32m      2\u001b[0m \u001b[0mnew_list\u001b[0m\u001b[0;34m=\u001b[0m\u001b[0mlist\u001b[0m\u001b[0;34m(\u001b[0m\u001b[0;34m)\u001b[0m\u001b[0;34m\u001b[0m\u001b[0;34m\u001b[0m\u001b[0m\n\u001b[1;32m      3\u001b[0m \u001b[0;32mfor\u001b[0m \u001b[0mnum\u001b[0m \u001b[0;32min\u001b[0m \u001b[0mnum_list\u001b[0m\u001b[0;34m:\u001b[0m\u001b[0;34m\u001b[0m\u001b[0;34m\u001b[0m\u001b[0m\n\u001b[0;32m----> 4\u001b[0;31m   \u001b[0;32mif\u001b[0m \u001b[0mint\u001b[0m\u001b[0;34m(\u001b[0m\u001b[0mnum\u001b[0m\u001b[0;34m)\u001b[0m \u001b[0;32mis\u001b[0m \u001b[0mint\u001b[0m\u001b[0;34m:\u001b[0m\u001b[0;34m\u001b[0m\u001b[0;34m\u001b[0m\u001b[0m\n\u001b[0m\u001b[1;32m      5\u001b[0m     \u001b[0mnew_list\u001b[0m\u001b[0;34m=\u001b[0m\u001b[0mlist\u001b[0m\u001b[0;34m(\u001b[0m\u001b[0mnum\u001b[0m\u001b[0;34m)\u001b[0m\u001b[0;34m\u001b[0m\u001b[0;34m\u001b[0m\u001b[0m\n\u001b[1;32m      6\u001b[0m \u001b[0;34m\u001b[0m\u001b[0m\n",
            "\u001b[0;31mValueError\u001b[0m: invalid literal for int() with base 10: ','"
          ]
        }
      ]
    },
    {
      "cell_type": "code",
      "source": [
        "#Write a Python program to get the smallest number from a list.\n",
        "num_list = []\n",
        "\n",
        "while True:\n",
        "    try:\n",
        "        num = int(input())\n",
        "        num_list.append(num)\n",
        "    except ValueError:\n",
        "        # Exit the loop if the input is not an integer\n",
        "        break\n",
        "print(num_list)\n",
        "# Print the minimum value in the list\n",
        "if num_list:\n",
        "    print(min(num_list))\n",
        "else:\n",
        "    print(\"The list is empty.\")"
      ],
      "metadata": {
        "colab": {
          "base_uri": "https://localhost:8080/"
        },
        "id": "KNxIz8xPaLn9",
        "outputId": "d32f46f5-c402-420d-ef63-ef6302b852c0"
      },
      "execution_count": 37,
      "outputs": [
        {
          "output_type": "stream",
          "name": "stdout",
          "text": [
            "1\n",
            "6\n",
            "78\n",
            "35\n",
            "92\n",
            "-98\n",
            "976\n",
            "-234\n",
            "e\n",
            "[1, 6, 78, 35, 92, -98, 976, -234]\n",
            "-234\n"
          ]
        }
      ]
    },
    {
      "cell_type": "code",
      "source": [
        "def smallest_num_in_list( list ):\n",
        "    min = list[ 0 ]\n",
        "    for a in list:\n",
        "    2    if a < min:\n",
        "            min = a\n",
        "    return min\n",
        "\n",
        "lst = eval(input())\n",
        "print(smallest_num_in_list(lst))"
      ],
      "metadata": {
        "colab": {
          "base_uri": "https://localhost:8080/",
          "height": 106
        },
        "id": "UdyqOkPIbnDU",
        "outputId": "961fc9a4-4566-4703-e1d8-9af4b1055eea"
      },
      "execution_count": 44,
      "outputs": [
        {
          "output_type": "error",
          "ename": "IndentationError",
          "evalue": "expected an indented block after 'for' statement on line 3 (<ipython-input-44-876812b864a2>, line 4)",
          "traceback": [
            "\u001b[0;36m  File \u001b[0;32m\"<ipython-input-44-876812b864a2>\"\u001b[0;36m, line \u001b[0;32m4\u001b[0m\n\u001b[0;31m    2    if a < min:\u001b[0m\n\u001b[0m    ^\u001b[0m\n\u001b[0;31mIndentationError\u001b[0m\u001b[0;31m:\u001b[0m expected an indented block after 'for' statement on line 3\n"
          ]
        }
      ]
    },
    {
      "cell_type": "code",
      "source": [
        "#Write a Python program to check a triangle is equilateral, isosceles or scalene. Note : An equilateral triangle is a triangle in which all three sides are equal.\n",
        "#A scalene triangle is a triangle that has three unequal sides. An isosceles triangle is a triangle with (at least) two equal sides.\n",
        "\n",
        "a=int(input())\n",
        "b=int(input())\n",
        "c=int(input())\n",
        "if a==b:\n",
        "    if b==c:\n",
        "        print(\"An equilateral triangle\")\n",
        "    else:\n",
        "        print(\"An isosceles triangle\")\n",
        "elif a==c:\n",
        "    if c==b:\n",
        "        print(\"An equilateral triangle\")\n",
        "    else:\n",
        "        print(\"An isosceles triangle\")\n",
        "elif b==c:\n",
        "    if c==a:\n",
        "        print(\"An equilateral triangle\")\n",
        "    else:\n",
        "        print(\"An isosceles triangle\")\n",
        "else:\n",
        "  print(\"An scalene triangle\")\n"
      ],
      "metadata": {
        "colab": {
          "base_uri": "https://localhost:8080/"
        },
        "id": "WsyqNQWQiLdq",
        "outputId": "0de33a7b-1201-412b-dab2-2bf13289ab2a"
      },
      "execution_count": 65,
      "outputs": [
        {
          "output_type": "stream",
          "name": "stdout",
          "text": [
            "3\n",
            "4\n",
            "5\n",
            "An scalene triangle\n"
          ]
        }
      ]
    },
    {
      "cell_type": "code",
      "source": [
        "#Write a Python program to check a triangle is equilateral, isosceles or scalene. Note : An equilateral triangle is a triangle in which all three sides are equal.\n",
        "#A scalene triangle is a triangle that has three unequal sides. An isosceles triangle is a triangle with (at least) two equal sides.\n",
        "x = int(input())\n",
        "y = int(input())\n",
        "z = int(input())\n",
        "\n",
        "if x == y == z:\n",
        "        print(\"Equilateral triangle\")\n",
        "elif x==y or y==z or z==x:\n",
        "        print(\"Isosceles triangle\")\n",
        "else:\n",
        "        print(\"Scalene triangle\")"
      ],
      "metadata": {
        "colab": {
          "base_uri": "https://localhost:8080/"
        },
        "id": "TZsbwRTelAHG",
        "outputId": "c954e586-9c4e-4bf7-cb63-a9dc8f119b95"
      },
      "execution_count": 67,
      "outputs": [
        {
          "output_type": "stream",
          "name": "stdout",
          "text": [
            "5\n",
            "6\n",
            "7\n",
            "Scalene triangle\n"
          ]
        }
      ]
    },
    {
      "cell_type": "code",
      "source": [
        "list1=list(input())\n",
        "new_list=[]\n",
        "n=int(input())\n",
        "for i in range(0,len(list1)):\n",
        "    new_list.append(list(i))\n",
        "print(new_list)\n"
      ],
      "metadata": {
        "colab": {
          "base_uri": "https://localhost:8080/",
          "height": 228
        },
        "id": "atbJnFWqoZj3",
        "outputId": "a389f3ca-2895-4f28-b26e-0e8a6374f3c9"
      },
      "execution_count": 69,
      "outputs": [
        {
          "name": "stdout",
          "output_type": "stream",
          "text": [
            "1,2,3,4,5\n",
            "2\n"
          ]
        },
        {
          "output_type": "error",
          "ename": "TypeError",
          "evalue": "'int' object is not iterable",
          "traceback": [
            "\u001b[0;31m---------------------------------------------------------------------------\u001b[0m",
            "\u001b[0;31mTypeError\u001b[0m                                 Traceback (most recent call last)",
            "\u001b[0;32m<ipython-input-69-5795fe9e6bc9>\u001b[0m in \u001b[0;36m<cell line: 4>\u001b[0;34m()\u001b[0m\n\u001b[1;32m      3\u001b[0m \u001b[0mn\u001b[0m\u001b[0;34m=\u001b[0m\u001b[0mint\u001b[0m\u001b[0;34m(\u001b[0m\u001b[0minput\u001b[0m\u001b[0;34m(\u001b[0m\u001b[0;34m)\u001b[0m\u001b[0;34m)\u001b[0m\u001b[0;34m\u001b[0m\u001b[0;34m\u001b[0m\u001b[0m\n\u001b[1;32m      4\u001b[0m \u001b[0;32mfor\u001b[0m \u001b[0mi\u001b[0m \u001b[0;32min\u001b[0m \u001b[0mrange\u001b[0m\u001b[0;34m(\u001b[0m\u001b[0;36m0\u001b[0m\u001b[0;34m,\u001b[0m\u001b[0mlen\u001b[0m\u001b[0;34m(\u001b[0m\u001b[0mlist1\u001b[0m\u001b[0;34m)\u001b[0m\u001b[0;34m)\u001b[0m\u001b[0;34m:\u001b[0m\u001b[0;34m\u001b[0m\u001b[0;34m\u001b[0m\u001b[0m\n\u001b[0;32m----> 5\u001b[0;31m     \u001b[0mnew_list\u001b[0m\u001b[0;34m.\u001b[0m\u001b[0mappend\u001b[0m\u001b[0;34m(\u001b[0m\u001b[0mlist\u001b[0m\u001b[0;34m(\u001b[0m\u001b[0mi\u001b[0m\u001b[0;34m)\u001b[0m\u001b[0;34m)\u001b[0m\u001b[0;34m\u001b[0m\u001b[0;34m\u001b[0m\u001b[0m\n\u001b[0m\u001b[1;32m      6\u001b[0m \u001b[0mprint\u001b[0m\u001b[0;34m(\u001b[0m\u001b[0mnew_list\u001b[0m\u001b[0;34m)\u001b[0m\u001b[0;34m\u001b[0m\u001b[0;34m\u001b[0m\u001b[0m\n",
            "\u001b[0;31mTypeError\u001b[0m: 'int' object is not iterable"
          ]
        }
      ]
    }
  ]
}