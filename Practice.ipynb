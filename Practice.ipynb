{
  "nbformat": 4,
  "nbformat_minor": 0,
  "metadata": {
    "colab": {
      "provenance": [],
      "authorship_tag": "ABX9TyPpVyZd6I7GM4PTQK/1KTWb",
      "include_colab_link": true
    },
    "kernelspec": {
      "name": "python3",
      "display_name": "Python 3"
    },
    "language_info": {
      "name": "python"
    }
  },
  "cells": [
    {
      "cell_type": "markdown",
      "metadata": {
        "id": "view-in-github",
        "colab_type": "text"
      },
      "source": [
        "<a href=\"https://colab.research.google.com/github/darshanpatel598/Python-Basics/blob/main/Practice.ipynb\" target=\"_parent\"><img src=\"https://colab.research.google.com/assets/colab-badge.svg\" alt=\"Open In Colab\"/></a>"
      ]
    },
    {
      "cell_type": "code",
      "execution_count": 2,
      "metadata": {
        "colab": {
          "base_uri": "https://localhost:8080/"
        },
        "id": "gixGn8TqobfU",
        "outputId": "b011484d-4417-4cf4-9517-769491bcc30a"
      },
      "outputs": [
        {
          "output_type": "stream",
          "name": "stdout",
          "text": [
            "2024\n",
            "7\n",
            "12\n",
            "The next date is [yyyy-mm-dd] 2024-7-13.\n"
          ]
        }
      ],
      "source": [
        "#Write a Python Program for Mr. Harry to automatically reschedule a meeting to the next date whenever it is not held on the current date.\n",
        "\n",
        "#Sample\n",
        "\n",
        "#Input a year: 1974\n",
        "#Input a month [1-12]: 2\n",
        "#Input a day [1-31]: 15\n",
        "#The next date is [yyyy-mm-dd] 1974-2-16.\n",
        "\n",
        "year = int(input())\n",
        "month = int(input())\n",
        "day = int(input())\n",
        "\n",
        "if (year % 400 == 0):\n",
        "  leap_year = True\n",
        "elif (year % 100 == 0):\n",
        "  leap_year = False\n",
        "elif (year % 4 == 0):\n",
        "  leap_year = True\n",
        "else:\n",
        "  leap_year = False\n",
        "\n",
        "\n",
        "if month in (1, 3, 5, 7, 8, 10, 12):\n",
        "  month_length = 31\n",
        "elif month == 2:\n",
        "  if leap_year:\n",
        "    month_length = 29\n",
        "  else:\n",
        "    month_length = 28\n",
        "else:\n",
        "  month_length = 30\n",
        "\n",
        "if day < month_length:\n",
        "  day += 1\n",
        "else:\n",
        "  day = 1\n",
        "  if month == 12:\n",
        "    month = 1\n",
        "    year += 1\n",
        "  else:\n",
        "    month += 1\n",
        "print (\"The next date is [yyyy-mm-dd] %d-%d-%d.\" % (year, month, day))"
      ]
    },
    {
      "cell_type": "code",
      "source": [
        "#Write a Python program to print the following pattern of numbers in n rows to display on art board in maths exhibition.\n",
        "\n",
        "#Example 1:\n",
        "#Input:\n",
        "#4\n",
        "\n",
        "#Output:\n",
        "#1\n",
        "\n",
        "#22\n",
        "\n",
        "#333\n",
        "\n",
        "#4444\n",
        "\n",
        "a=int(input())\n",
        "for i in range(1,a+1):\n",
        "    print(i*str(i))"
      ],
      "metadata": {
        "colab": {
          "base_uri": "https://localhost:8080/"
        },
        "id": "Sv5i5u3Krw7E",
        "outputId": "32603164-67ae-4bca-a5d3-884385953631"
      },
      "execution_count": 3,
      "outputs": [
        {
          "output_type": "stream",
          "name": "stdout",
          "text": [
            "5\n",
            "1\n",
            "22\n",
            "333\n",
            "4444\n",
            "55555\n"
          ]
        }
      ]
    }
  ]
}